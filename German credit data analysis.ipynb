{
 "cells": [
  {
   "cell_type": "markdown",
   "id": "1e686b90",
   "metadata": {},
   "source": [
    "# German-credit data analysis notebook\n",
    "\n",
    "In this notebook, we perform the replication of fair kit looking at the German-Credit Dataset"
   ]
  },
  {
   "cell_type": "code",
   "execution_count": 23,
   "id": "f6a618f9",
   "metadata": {},
   "outputs": [],
   "source": [
    "# Load all necessary packages\n",
    "import numpy as np\n",
    "import sklearn as skl\n",
    "import six\n",
    "import tensorflow as tf\n",
    "\n",
    "# datasets\n",
    "from aif360.datasets import GermanDataset, BinaryLabelDataset\n",
    "\n",
    "# metrics\n",
    "from fklearn.metric_library import UnifiedMetricLibrary, classifier_quality_score\n",
    "\n",
    "# models\n",
    "from fklearn.scikit_learn_wrapper import LogisticRegression, KNeighborsClassifier, RandomForestClassifier, SVC\n",
    "from aif360.algorithms.inprocessing import AdversarialDebiasing\n",
    "\n",
    "# pre/post-processing algorithms\n",
    "from aif360.algorithms.preprocessing import DisparateImpactRemover, Reweighing\n",
    "from aif360.algorithms.postprocessing import CalibratedEqOddsPostprocessing, RejectOptionClassification\n",
    "\n",
    "# model search\n",
    "from fklearn.fair_selection_aif import ModelSearch, DEFAULT_ADB_PARAMS"
   ]
  },
  {
   "cell_type": "code",
   "execution_count": 24,
   "id": "80c0ed20",
   "metadata": {},
   "outputs": [
    {
     "name": "stderr",
     "output_type": "stream",
     "text": [
      "WARNING:root:'scores' has no well-defined meaning out of range [0, 1].\n"
     ]
    }
   ],
   "source": [
    "dataset = GermanDataset()\n",
    "# Specific protected group\n",
    "unprivileged = [{'sex': 0.0}]\n",
    "privileged = [{'sex': 1.0}]"
   ]
  },
  {
   "cell_type": "markdown",
   "id": "c083ef6f",
   "metadata": {},
   "source": [
    "## Without Fair Kit\n",
    "\n",
    "First, we try to train a fair model without having access to Fair kit. We will do this by\n",
    "1. Naively training a model for accuracy\n",
    "2. Training a model using k-fold cross validation\n",
    "\n",
    "We will do this for Logistic regression, and random forest models"
   ]
  },
  {
   "cell_type": "code",
   "execution_count": 25,
   "id": "4c766bf9",
   "metadata": {},
   "outputs": [],
   "source": [
    "# Helper function for calculating Fairness metrics\n",
    "def getFairnessMetrics(metric_library):\n",
    "    #accuracy\n",
    "    acc = metric_library.accuracy_score()\n",
    "\n",
    "    #fairness\n",
    "    fairness_scores = []\n",
    "    fairness_scores.append(acc)\n",
    "    \n",
    "    # equal opportunity difference\n",
    "    eq_opp_diff = metric_library.equal_opportunity_difference()\n",
    "    fairness_scores.append(eq_opp_diff)\n",
    "\n",
    "    # average odds difference\n",
    "    avg_odds_diff = metric_library.average_odds_difference()\n",
    "    fairness_scores.append(avg_odds_diff)\n",
    "\n",
    "    # statistical parity difference\n",
    "    stat_parity_diff = metric_library.statistical_parity_difference()\n",
    "    fairness_scores.append(stat_parity_diff)\n",
    "\n",
    "    # Disperate impact\n",
    "    disperate_impact = metric_library.disparate_impact()\n",
    "    fairness_scores.append(disperate_impact)\n",
    "\n",
    "    return ([\"acc\",\"eq_opp_diff\",\"avg_odds_diff\",\"stat_parity_diff\",\"disperate_impact\"],(fairness_scores))"
   ]
  },
  {
   "cell_type": "code",
   "execution_count": 26,
   "id": "bd83d365",
   "metadata": {},
   "outputs": [],
   "source": [
    "# First we import the models to use\n",
    "from sklearn.linear_model import LogisticRegression\n",
    "from sklearn.ensemble import RandomForestClassifier\n",
    "\n",
    "# Split the data set into training and testing\n",
    "test_frac =0.3\n",
    "dataset_train, dataset_test = dataset.split([1-test_frac], shuffle=False)\n",
    "\n",
    "X = dataset_train.features\n",
    "y_true = dataset_train.labels.ravel()"
   ]
  },
  {
   "cell_type": "markdown",
   "id": "0b34f9fc",
   "metadata": {},
   "source": [
    "### Logistic Regression\n",
    "\n",
    "Training, and data collection of logistic regression models"
   ]
  },
  {
   "cell_type": "code",
   "execution_count": 27,
   "id": "73a54806",
   "metadata": {},
   "outputs": [
    {
     "name": "stdout",
     "output_type": "stream",
     "text": [
      "(['acc', 'eq_opp_diff', 'avg_odds_diff', 'stat_parity_diff', 'disperate_impact'], [0.7766666666666666, 0.10170068027210888, 0.168746651202854, 0.17723610824209868, 0.7826747720364743])\n"
     ]
    }
   ],
   "source": [
    "# Logistic Regression Naive\n",
    "logisticRegressionModel = LogisticRegression(random_state=0,solver = 'liblinear')\n",
    "logisticRegressionModel.fit(X,y_true)\n",
    "\n",
    "naive_predictions = dataset_test.copy()\n",
    "naive_predictions.labels = logisticRegressionModel.predict(dataset_test.features).reshape(-1,1)\n",
    "\n",
    "# Measure Fairness metrics\n",
    "metric_library_naive = UnifiedMetricLibrary(dataset_test,\n",
    "                                            naive_predictions,\n",
    "                                            unprivileged_groups=unprivileged, privileged_groups = privileged)\n",
    "metrics_array = getFairnessMetrics(metric_library_naive)\n",
    "print(metrics_array)"
   ]
  },
  {
   "cell_type": "code",
   "execution_count": 28,
   "id": "84581edf",
   "metadata": {},
   "outputs": [
    {
     "name": "stdout",
     "output_type": "stream",
     "text": [
      "(['acc', 'eq_opp_diff', 'avg_odds_diff', 'stat_parity_diff', 'disperate_impact'], [0.78, 0.10170068027210888, 0.1834525335557952, 0.18787440611443917, 0.769630192502533])\n"
     ]
    }
   ],
   "source": [
    "# Logistic Regression Regularized fit\n",
    "logisticRegressionModel = LogisticRegression(random_state=0,solver = 'liblinear', C=0.5)\n",
    "logisticRegressionModel.fit(X,y_true)\n",
    "\n",
    "\n",
    "regularized_predictions = dataset_test.copy()\n",
    "regularized_predictions.labels = logisticRegressionModel.predict(dataset_test.features).reshape(-1,1)\n",
    "\n",
    "# Measure Fairness metrics\n",
    "metric_library_regularized= UnifiedMetricLibrary(dataset_test,\n",
    "                                            regularized_predictions,\n",
    "                                            unprivileged_groups=unprivileged, privileged_groups = privileged)\n",
    "metrics_array = getFairnessMetrics(metric_library_regularized)\n",
    "print(metrics_array)"
   ]
  },
  {
   "cell_type": "code",
   "execution_count": 29,
   "id": "c04fd013",
   "metadata": {},
   "outputs": [
    {
     "name": "stdout",
     "output_type": "stream",
     "text": [
      "(['acc', 'eq_opp_diff', 'avg_odds_diff', 'stat_parity_diff', 'disperate_impact'], [0.76, 0.11462585034013606, 0.15202877761274, 0.16845693038628384, 0.7884016606123507])\n"
     ]
    }
   ],
   "source": [
    "# Logistic Regression Cross Validate fit\n",
    "from sklearn.model_selection import cross_validate\n",
    "logisticRegressionModel = LogisticRegression(random_state=0,solver = 'liblinear', C=0.5)\n",
    "cv_results = cross_validate(logisticRegressionModel,X,y_true,cv = 10,return_estimator = True)\n",
    "\n",
    "cv_results['test_score']\n",
    "cv_model = cv_results['estimator'][list(cv_results['test_score']).index(max(cv_results['test_score']))]\n",
    "\n",
    "cv_predictions = dataset_test.copy()\n",
    "cv_predictions.labels = cv_model.predict(dataset_test.features).reshape(-1,1)\n",
    "\n",
    "# Measure Fairness metrics\n",
    "metric_library_cv= UnifiedMetricLibrary(dataset_test,\n",
    "                                            cv_predictions,\n",
    "                                            unprivileged_groups=unprivileged, privileged_groups = privileged)\n",
    "metrics_array = getFairnessMetrics(metric_library_cv)\n",
    "print(metrics_array)"
   ]
  },
  {
   "cell_type": "markdown",
   "id": "674b4d5d",
   "metadata": {},
   "source": [
    "### Random Forest\n",
    "\n",
    "Training, and data collection of random Forest models"
   ]
  },
  {
   "cell_type": "code",
   "execution_count": 30,
   "id": "961b641c",
   "metadata": {},
   "outputs": [
    {
     "name": "stdout",
     "output_type": "stream",
     "text": [
      "(['acc', 'eq_opp_diff', 'avg_odds_diff', 'stat_parity_diff', 'disperate_impact'], [0.77, 0.052380952380952306, 0.1994207852632578, 0.17558355711629836, 0.8023485641204511])\n"
     ]
    }
   ],
   "source": [
    "# Random forest Naive\n",
    "RandomForestModel = RandomForestClassifier(random_state=0,n_estimators=100)\n",
    "RandomForestModel.fit(X,y_true)\n",
    "\n",
    "naive_predictions = dataset_test.copy()\n",
    "naive_predictions.labels = RandomForestModel.predict(dataset_test.features).reshape(-1,1)\n",
    "\n",
    "# Measure Fairness metrics\n",
    "metric_library = UnifiedMetricLibrary(dataset_test,\n",
    "                                            naive_predictions,\n",
    "                                            unprivileged_groups=unprivileged, privileged_groups = privileged)\n",
    "metrics_array = getFairnessMetrics(metric_library)\n",
    "print(metrics_array)"
   ]
  },
  {
   "cell_type": "code",
   "execution_count": 31,
   "id": "a21979b6",
   "metadata": {},
   "outputs": [
    {
     "name": "stdout",
     "output_type": "stream",
     "text": [
      "(['acc', 'eq_opp_diff', 'avg_odds_diff', 'stat_parity_diff', 'disperate_impact'], [0.7733333333333333, 0.03265306122448974, 0.09907827537794778, 0.10111547200991533, 0.8861760260434833])\n"
     ]
    }
   ],
   "source": [
    "# Random forest Regularized\n",
    "RandomForestModel = RandomForestClassifier(random_state=0,n_estimators=100,max_depth=10)\n",
    "RandomForestModel.fit(X,y_true)\n",
    "\n",
    "predictions = dataset_test.copy()\n",
    "predictions.labels = RandomForestModel.predict(dataset_test.features).reshape(-1,1)\n",
    "\n",
    "# Measure Fairness metrics\n",
    "metric_library = UnifiedMetricLibrary(dataset_test,\n",
    "                                            predictions,\n",
    "                                            unprivileged_groups=unprivileged, privileged_groups = privileged)\n",
    "metrics_array = getFairnessMetrics(metric_library)\n",
    "print(metrics_array)"
   ]
  },
  {
   "cell_type": "code",
   "execution_count": 32,
   "id": "cd446bfb",
   "metadata": {},
   "outputs": [
    {
     "name": "stdout",
     "output_type": "stream",
     "text": [
      "(['acc', 'eq_opp_diff', 'avg_odds_diff', 'stat_parity_diff', 'disperate_impact'], [0.7566666666666667, 0.10918367346938773, 0.15204946385333795, 0.16009089031191903, 0.8187982230535422])\n"
     ]
    }
   ],
   "source": [
    "# Random forest CV\n",
    "RandomForestModel = RandomForestClassifier(random_state=0,n_estimators=100)\n",
    "cv_results = cross_validate(RandomForestModel,X,y_true,cv = 10,return_estimator = True)\n",
    "\n",
    "cv_model = cv_results['estimator'][list(cv_results['test_score']).index(max(cv_results['test_score']))]\n",
    "\n",
    "cv_predictions = dataset_test.copy()\n",
    "cv_predictions.labels = cv_model.predict(dataset_test.features).reshape(-1,1)\n",
    "\n",
    "# Measure Fairness metrics\n",
    "metric_library = UnifiedMetricLibrary(dataset_test,\n",
    "                                            cv_predictions,\n",
    "                                            unprivileged_groups=unprivileged, privileged_groups = privileged)\n",
    "metrics_array = getFairnessMetrics(metric_library)\n",
    "print(metrics_array)"
   ]
  },
  {
   "cell_type": "markdown",
   "id": "0573977a",
   "metadata": {},
   "source": [
    "## With Fairkit\n",
    "\n",
    "Using fair kit to find the most fair model. The data generation part of this is also included in the \"compasGridSearch.py\" script."
   ]
  },
  {
   "cell_type": "code",
   "execution_count": 35,
   "id": "b0436fb3",
   "metadata": {},
   "outputs": [
    {
     "name": "stderr",
     "output_type": "stream",
     "text": [
      "WARNING:root:'scores' has no well-defined meaning out of range [0, 1].\n"
     ]
    }
   ],
   "source": [
    "from fklearn.scikit_learn_wrapper import LogisticRegression, KNeighborsClassifier, RandomForestClassifier, SVC\n",
    "## Re setup data set (sanity check)\n",
    "dataset = GermanDataset()\n",
    "# Specific protected group\n",
    "unprivileged = [{'sex': 0.0}]\n",
    "privileged = [{'sex': 1.0}]\n",
    "\n",
    "## Setup parameters\n",
    "\n",
    "models = {'LogisticRegression': LogisticRegression, 'RandomForestClassifier': RandomForestClassifier }\n",
    "\n",
    "metrics = {'UnifiedMetricLibrary': [UnifiedMetricLibrary,\n",
    "                                    'accuracy_score',\n",
    "                                    'average_odds_difference',\n",
    "                                    'statistical_parity_difference',\n",
    "                                    'equal_opportunity_difference',\n",
    "                                    'disparate_impact'\n",
    "                                   ]\n",
    "          }\n",
    "\n",
    "hyperparameters = {'LogisticRegression':{'penalty': ['l1', 'l2'], 'C': [0.1, 0.5, 1, 1.5],'solver':['liblinear']},\n",
    "                   'RandomForestClassifier':{'n_estimators': ['warn', 10, 20, 30, 40, 50, 100]\n",
    "                  }}\n",
    "\n",
    "thresholds = [i * 10.0/100 for i in range(5)]\n",
    "\n",
    "processor_args = {'unprivileged_groups': unprivileged, 'privileged_groups': privileged}\n",
    "\n",
    "preprocessors=[DisparateImpactRemover()]\n",
    "postprocessors=[CalibratedEqOddsPostprocessing(**processor_args)]\n"
   ]
  },
  {
   "cell_type": "code",
   "execution_count": 36,
   "id": "602b1026",
   "metadata": {},
   "outputs": [
    {
     "name": "stderr",
     "output_type": "stream",
     "text": [
      "/usr/local/lib/python3.6/site-packages/sklearn/ensemble/forest.py:248: FutureWarning: The default value of n_estimators will change from 10 in version 0.20 to 100 in 0.22.\n",
      "  \"10 in version 0.20 to 100 in 0.22.\", FutureWarning)\n"
     ]
    }
   ],
   "source": [
    "## Perform Grid search.\n",
    "Search = ModelSearch(models, metrics, hyperparameters, thresholds) \n",
    "Search.grid_search(dataset, privileged=privileged, unprivileged=unprivileged, preprocessors=preprocessors, postprocessors=postprocessors)\n",
    "\n",
    "Search.to_csv(\"german_credit_output.csv\")"
   ]
  },
  {
   "cell_type": "code",
   "execution_count": 37,
   "id": "22528303",
   "metadata": {},
   "outputs": [
    {
     "data": {
      "text/html": [
       "\n",
       "    <div class=\"bk-root\">\n",
       "        <a href=\"https://bokeh.pydata.org\" target=\"_blank\" class=\"bk-logo bk-logo-small bk-logo-notebook\"></a>\n",
       "        <span id=\"1116\">Loading BokehJS ...</span>\n",
       "    </div>"
      ]
     },
     "metadata": {},
     "output_type": "display_data"
    },
    {
     "data": {
      "application/javascript": [
       "\n",
       "(function(root) {\n",
       "  function now() {\n",
       "    return new Date();\n",
       "  }\n",
       "\n",
       "  var force = true;\n",
       "\n",
       "  if (typeof root._bokeh_onload_callbacks === \"undefined\" || force === true) {\n",
       "    root._bokeh_onload_callbacks = [];\n",
       "    root._bokeh_is_loading = undefined;\n",
       "  }\n",
       "\n",
       "  var JS_MIME_TYPE = 'application/javascript';\n",
       "  var HTML_MIME_TYPE = 'text/html';\n",
       "  var EXEC_MIME_TYPE = 'application/vnd.bokehjs_exec.v0+json';\n",
       "  var CLASS_NAME = 'output_bokeh rendered_html';\n",
       "\n",
       "  /**\n",
       "   * Render data to the DOM node\n",
       "   */\n",
       "  function render(props, node) {\n",
       "    var script = document.createElement(\"script\");\n",
       "    node.appendChild(script);\n",
       "  }\n",
       "\n",
       "  /**\n",
       "   * Handle when an output is cleared or removed\n",
       "   */\n",
       "  function handleClearOutput(event, handle) {\n",
       "    var cell = handle.cell;\n",
       "\n",
       "    var id = cell.output_area._bokeh_element_id;\n",
       "    var server_id = cell.output_area._bokeh_server_id;\n",
       "    // Clean up Bokeh references\n",
       "    if (id != null && id in Bokeh.index) {\n",
       "      Bokeh.index[id].model.document.clear();\n",
       "      delete Bokeh.index[id];\n",
       "    }\n",
       "\n",
       "    if (server_id !== undefined) {\n",
       "      // Clean up Bokeh references\n",
       "      var cmd = \"from bokeh.io.state import curstate; print(curstate().uuid_to_server['\" + server_id + \"'].get_sessions()[0].document.roots[0]._id)\";\n",
       "      cell.notebook.kernel.execute(cmd, {\n",
       "        iopub: {\n",
       "          output: function(msg) {\n",
       "            var id = msg.content.text.trim();\n",
       "            if (id in Bokeh.index) {\n",
       "              Bokeh.index[id].model.document.clear();\n",
       "              delete Bokeh.index[id];\n",
       "            }\n",
       "          }\n",
       "        }\n",
       "      });\n",
       "      // Destroy server and session\n",
       "      var cmd = \"import bokeh.io.notebook as ion; ion.destroy_server('\" + server_id + \"')\";\n",
       "      cell.notebook.kernel.execute(cmd);\n",
       "    }\n",
       "  }\n",
       "\n",
       "  /**\n",
       "   * Handle when a new output is added\n",
       "   */\n",
       "  function handleAddOutput(event, handle) {\n",
       "    var output_area = handle.output_area;\n",
       "    var output = handle.output;\n",
       "\n",
       "    // limit handleAddOutput to display_data with EXEC_MIME_TYPE content only\n",
       "    if ((output.output_type != \"display_data\") || (!output.data.hasOwnProperty(EXEC_MIME_TYPE))) {\n",
       "      return\n",
       "    }\n",
       "\n",
       "    var toinsert = output_area.element.find(\".\" + CLASS_NAME.split(' ')[0]);\n",
       "\n",
       "    if (output.metadata[EXEC_MIME_TYPE][\"id\"] !== undefined) {\n",
       "      toinsert[toinsert.length - 1].firstChild.textContent = output.data[JS_MIME_TYPE];\n",
       "      // store reference to embed id on output_area\n",
       "      output_area._bokeh_element_id = output.metadata[EXEC_MIME_TYPE][\"id\"];\n",
       "    }\n",
       "    if (output.metadata[EXEC_MIME_TYPE][\"server_id\"] !== undefined) {\n",
       "      var bk_div = document.createElement(\"div\");\n",
       "      bk_div.innerHTML = output.data[HTML_MIME_TYPE];\n",
       "      var script_attrs = bk_div.children[0].attributes;\n",
       "      for (var i = 0; i < script_attrs.length; i++) {\n",
       "        toinsert[toinsert.length - 1].firstChild.setAttribute(script_attrs[i].name, script_attrs[i].value);\n",
       "      }\n",
       "      // store reference to server id on output_area\n",
       "      output_area._bokeh_server_id = output.metadata[EXEC_MIME_TYPE][\"server_id\"];\n",
       "    }\n",
       "  }\n",
       "\n",
       "  function register_renderer(events, OutputArea) {\n",
       "\n",
       "    function append_mime(data, metadata, element) {\n",
       "      // create a DOM node to render to\n",
       "      var toinsert = this.create_output_subarea(\n",
       "        metadata,\n",
       "        CLASS_NAME,\n",
       "        EXEC_MIME_TYPE\n",
       "      );\n",
       "      this.keyboard_manager.register_events(toinsert);\n",
       "      // Render to node\n",
       "      var props = {data: data, metadata: metadata[EXEC_MIME_TYPE]};\n",
       "      render(props, toinsert[toinsert.length - 1]);\n",
       "      element.append(toinsert);\n",
       "      return toinsert\n",
       "    }\n",
       "\n",
       "    /* Handle when an output is cleared or removed */\n",
       "    events.on('clear_output.CodeCell', handleClearOutput);\n",
       "    events.on('delete.Cell', handleClearOutput);\n",
       "\n",
       "    /* Handle when a new output is added */\n",
       "    events.on('output_added.OutputArea', handleAddOutput);\n",
       "\n",
       "    /**\n",
       "     * Register the mime type and append_mime function with output_area\n",
       "     */\n",
       "    OutputArea.prototype.register_mime_type(EXEC_MIME_TYPE, append_mime, {\n",
       "      /* Is output safe? */\n",
       "      safe: true,\n",
       "      /* Index of renderer in `output_area.display_order` */\n",
       "      index: 0\n",
       "    });\n",
       "  }\n",
       "\n",
       "  // register the mime type if in Jupyter Notebook environment and previously unregistered\n",
       "  if (root.Jupyter !== undefined) {\n",
       "    var events = require('base/js/events');\n",
       "    var OutputArea = require('notebook/js/outputarea').OutputArea;\n",
       "\n",
       "    if (OutputArea.prototype.mime_types().indexOf(EXEC_MIME_TYPE) == -1) {\n",
       "      register_renderer(events, OutputArea);\n",
       "    }\n",
       "  }\n",
       "\n",
       "  \n",
       "  if (typeof (root._bokeh_timeout) === \"undefined\" || force === true) {\n",
       "    root._bokeh_timeout = Date.now() + 5000;\n",
       "    root._bokeh_failed_load = false;\n",
       "  }\n",
       "\n",
       "  var NB_LOAD_WARNING = {'data': {'text/html':\n",
       "     \"<div style='background-color: #fdd'>\\n\"+\n",
       "     \"<p>\\n\"+\n",
       "     \"BokehJS does not appear to have successfully loaded. If loading BokehJS from CDN, this \\n\"+\n",
       "     \"may be due to a slow or bad network connection. Possible fixes:\\n\"+\n",
       "     \"</p>\\n\"+\n",
       "     \"<ul>\\n\"+\n",
       "     \"<li>re-rerun `output_notebook()` to attempt to load from CDN again, or</li>\\n\"+\n",
       "     \"<li>use INLINE resources instead, as so:</li>\\n\"+\n",
       "     \"</ul>\\n\"+\n",
       "     \"<code>\\n\"+\n",
       "     \"from bokeh.resources import INLINE\\n\"+\n",
       "     \"output_notebook(resources=INLINE)\\n\"+\n",
       "     \"</code>\\n\"+\n",
       "     \"</div>\"}};\n",
       "\n",
       "  function display_loaded() {\n",
       "    var el = document.getElementById(\"1116\");\n",
       "    if (el != null) {\n",
       "      el.textContent = \"BokehJS is loading...\";\n",
       "    }\n",
       "    if (root.Bokeh !== undefined) {\n",
       "      if (el != null) {\n",
       "        el.textContent = \"BokehJS \" + root.Bokeh.version + \" successfully loaded.\";\n",
       "      }\n",
       "    } else if (Date.now() < root._bokeh_timeout) {\n",
       "      setTimeout(display_loaded, 100)\n",
       "    }\n",
       "  }\n",
       "\n",
       "\n",
       "  function run_callbacks() {\n",
       "    try {\n",
       "      root._bokeh_onload_callbacks.forEach(function(callback) {\n",
       "        if (callback != null)\n",
       "          callback();\n",
       "      });\n",
       "    } finally {\n",
       "      delete root._bokeh_onload_callbacks\n",
       "    }\n",
       "    console.debug(\"Bokeh: all callbacks have finished\");\n",
       "  }\n",
       "\n",
       "  function load_libs(css_urls, js_urls, callback) {\n",
       "    if (css_urls == null) css_urls = [];\n",
       "    if (js_urls == null) js_urls = [];\n",
       "\n",
       "    root._bokeh_onload_callbacks.push(callback);\n",
       "    if (root._bokeh_is_loading > 0) {\n",
       "      console.debug(\"Bokeh: BokehJS is being loaded, scheduling callback at\", now());\n",
       "      return null;\n",
       "    }\n",
       "    if (js_urls == null || js_urls.length === 0) {\n",
       "      run_callbacks();\n",
       "      return null;\n",
       "    }\n",
       "    console.debug(\"Bokeh: BokehJS not loaded, scheduling load and callback at\", now());\n",
       "    root._bokeh_is_loading = css_urls.length + js_urls.length;\n",
       "\n",
       "    function on_load() {\n",
       "      root._bokeh_is_loading--;\n",
       "      if (root._bokeh_is_loading === 0) {\n",
       "        console.debug(\"Bokeh: all BokehJS libraries/stylesheets loaded\");\n",
       "        run_callbacks()\n",
       "      }\n",
       "    }\n",
       "\n",
       "    function on_error() {\n",
       "      console.error(\"failed to load \" + url);\n",
       "    }\n",
       "\n",
       "    for (var i = 0; i < css_urls.length; i++) {\n",
       "      var url = css_urls[i];\n",
       "      const element = document.createElement(\"link\");\n",
       "      element.onload = on_load;\n",
       "      element.onerror = on_error;\n",
       "      element.rel = \"stylesheet\";\n",
       "      element.type = \"text/css\";\n",
       "      element.href = url;\n",
       "      console.debug(\"Bokeh: injecting link tag for BokehJS stylesheet: \", url);\n",
       "      document.body.appendChild(element);\n",
       "    }\n",
       "\n",
       "    for (var i = 0; i < js_urls.length; i++) {\n",
       "      var url = js_urls[i];\n",
       "      var element = document.createElement('script');\n",
       "      element.onload = on_load;\n",
       "      element.onerror = on_error;\n",
       "      element.async = false;\n",
       "      element.src = url;\n",
       "      console.debug(\"Bokeh: injecting script tag for BokehJS library: \", url);\n",
       "      document.head.appendChild(element);\n",
       "    }\n",
       "  };var element = document.getElementById(\"1116\");\n",
       "  if (element == null) {\n",
       "    console.error(\"Bokeh: ERROR: autoload.js configured with elementid '1116' but no matching script tag was found. \")\n",
       "    return false;\n",
       "  }\n",
       "\n",
       "  function inject_raw_css(css) {\n",
       "    const element = document.createElement(\"style\");\n",
       "    element.appendChild(document.createTextNode(css));\n",
       "    document.body.appendChild(element);\n",
       "  }\n",
       "\n",
       "  var js_urls = [\"https://cdn.pydata.org/bokeh/release/bokeh-1.2.0.min.js\", \"https://cdn.pydata.org/bokeh/release/bokeh-widgets-1.2.0.min.js\", \"https://cdn.pydata.org/bokeh/release/bokeh-tables-1.2.0.min.js\", \"https://cdn.pydata.org/bokeh/release/bokeh-gl-1.2.0.min.js\"];\n",
       "  var css_urls = [\"https://cdn.pydata.org/bokeh/release/bokeh-1.2.0.min.css\", \"https://cdn.pydata.org/bokeh/release/bokeh-widgets-1.2.0.min.css\", \"https://cdn.pydata.org/bokeh/release/bokeh-tables-1.2.0.min.css\"];\n",
       "\n",
       "  var inline_js = [\n",
       "    function(Bokeh) {\n",
       "      Bokeh.set_log_level(\"info\");\n",
       "    },\n",
       "    \n",
       "    function(Bokeh) {\n",
       "      \n",
       "    },\n",
       "    function(Bokeh) {} // ensure no trailing comma for IE\n",
       "  ];\n",
       "\n",
       "  function run_inline_js() {\n",
       "    \n",
       "    if ((root.Bokeh !== undefined) || (force === true)) {\n",
       "      for (var i = 0; i < inline_js.length; i++) {\n",
       "        inline_js[i].call(root, root.Bokeh);\n",
       "      }if (force === true) {\n",
       "        display_loaded();\n",
       "      }} else if (Date.now() < root._bokeh_timeout) {\n",
       "      setTimeout(run_inline_js, 100);\n",
       "    } else if (!root._bokeh_failed_load) {\n",
       "      console.log(\"Bokeh: BokehJS failed to load within specified timeout.\");\n",
       "      root._bokeh_failed_load = true;\n",
       "    } else if (force !== true) {\n",
       "      var cell = $(document.getElementById(\"1116\")).parents('.cell').data().cell;\n",
       "      cell.output_area.append_execute_result(NB_LOAD_WARNING)\n",
       "    }\n",
       "\n",
       "  }\n",
       "\n",
       "  if (root._bokeh_is_loading === 0) {\n",
       "    console.debug(\"Bokeh: BokehJS loaded, going straight to plotting\");\n",
       "    run_inline_js();\n",
       "  } else {\n",
       "    load_libs(css_urls, js_urls, function() {\n",
       "      console.debug(\"Bokeh: BokehJS plotting callback run at\", now());\n",
       "      run_inline_js();\n",
       "    });\n",
       "  }\n",
       "}(window));"
      ],
      "application/vnd.bokehjs_load.v0+json": "\n(function(root) {\n  function now() {\n    return new Date();\n  }\n\n  var force = true;\n\n  if (typeof root._bokeh_onload_callbacks === \"undefined\" || force === true) {\n    root._bokeh_onload_callbacks = [];\n    root._bokeh_is_loading = undefined;\n  }\n\n  \n\n  \n  if (typeof (root._bokeh_timeout) === \"undefined\" || force === true) {\n    root._bokeh_timeout = Date.now() + 5000;\n    root._bokeh_failed_load = false;\n  }\n\n  var NB_LOAD_WARNING = {'data': {'text/html':\n     \"<div style='background-color: #fdd'>\\n\"+\n     \"<p>\\n\"+\n     \"BokehJS does not appear to have successfully loaded. If loading BokehJS from CDN, this \\n\"+\n     \"may be due to a slow or bad network connection. Possible fixes:\\n\"+\n     \"</p>\\n\"+\n     \"<ul>\\n\"+\n     \"<li>re-rerun `output_notebook()` to attempt to load from CDN again, or</li>\\n\"+\n     \"<li>use INLINE resources instead, as so:</li>\\n\"+\n     \"</ul>\\n\"+\n     \"<code>\\n\"+\n     \"from bokeh.resources import INLINE\\n\"+\n     \"output_notebook(resources=INLINE)\\n\"+\n     \"</code>\\n\"+\n     \"</div>\"}};\n\n  function display_loaded() {\n    var el = document.getElementById(\"1116\");\n    if (el != null) {\n      el.textContent = \"BokehJS is loading...\";\n    }\n    if (root.Bokeh !== undefined) {\n      if (el != null) {\n        el.textContent = \"BokehJS \" + root.Bokeh.version + \" successfully loaded.\";\n      }\n    } else if (Date.now() < root._bokeh_timeout) {\n      setTimeout(display_loaded, 100)\n    }\n  }\n\n\n  function run_callbacks() {\n    try {\n      root._bokeh_onload_callbacks.forEach(function(callback) {\n        if (callback != null)\n          callback();\n      });\n    } finally {\n      delete root._bokeh_onload_callbacks\n    }\n    console.debug(\"Bokeh: all callbacks have finished\");\n  }\n\n  function load_libs(css_urls, js_urls, callback) {\n    if (css_urls == null) css_urls = [];\n    if (js_urls == null) js_urls = [];\n\n    root._bokeh_onload_callbacks.push(callback);\n    if (root._bokeh_is_loading > 0) {\n      console.debug(\"Bokeh: BokehJS is being loaded, scheduling callback at\", now());\n      return null;\n    }\n    if (js_urls == null || js_urls.length === 0) {\n      run_callbacks();\n      return null;\n    }\n    console.debug(\"Bokeh: BokehJS not loaded, scheduling load and callback at\", now());\n    root._bokeh_is_loading = css_urls.length + js_urls.length;\n\n    function on_load() {\n      root._bokeh_is_loading--;\n      if (root._bokeh_is_loading === 0) {\n        console.debug(\"Bokeh: all BokehJS libraries/stylesheets loaded\");\n        run_callbacks()\n      }\n    }\n\n    function on_error() {\n      console.error(\"failed to load \" + url);\n    }\n\n    for (var i = 0; i < css_urls.length; i++) {\n      var url = css_urls[i];\n      const element = document.createElement(\"link\");\n      element.onload = on_load;\n      element.onerror = on_error;\n      element.rel = \"stylesheet\";\n      element.type = \"text/css\";\n      element.href = url;\n      console.debug(\"Bokeh: injecting link tag for BokehJS stylesheet: \", url);\n      document.body.appendChild(element);\n    }\n\n    for (var i = 0; i < js_urls.length; i++) {\n      var url = js_urls[i];\n      var element = document.createElement('script');\n      element.onload = on_load;\n      element.onerror = on_error;\n      element.async = false;\n      element.src = url;\n      console.debug(\"Bokeh: injecting script tag for BokehJS library: \", url);\n      document.head.appendChild(element);\n    }\n  };var element = document.getElementById(\"1116\");\n  if (element == null) {\n    console.error(\"Bokeh: ERROR: autoload.js configured with elementid '1116' but no matching script tag was found. \")\n    return false;\n  }\n\n  function inject_raw_css(css) {\n    const element = document.createElement(\"style\");\n    element.appendChild(document.createTextNode(css));\n    document.body.appendChild(element);\n  }\n\n  var js_urls = [\"https://cdn.pydata.org/bokeh/release/bokeh-1.2.0.min.js\", \"https://cdn.pydata.org/bokeh/release/bokeh-widgets-1.2.0.min.js\", \"https://cdn.pydata.org/bokeh/release/bokeh-tables-1.2.0.min.js\", \"https://cdn.pydata.org/bokeh/release/bokeh-gl-1.2.0.min.js\"];\n  var css_urls = [\"https://cdn.pydata.org/bokeh/release/bokeh-1.2.0.min.css\", \"https://cdn.pydata.org/bokeh/release/bokeh-widgets-1.2.0.min.css\", \"https://cdn.pydata.org/bokeh/release/bokeh-tables-1.2.0.min.css\"];\n\n  var inline_js = [\n    function(Bokeh) {\n      Bokeh.set_log_level(\"info\");\n    },\n    \n    function(Bokeh) {\n      \n    },\n    function(Bokeh) {} // ensure no trailing comma for IE\n  ];\n\n  function run_inline_js() {\n    \n    if ((root.Bokeh !== undefined) || (force === true)) {\n      for (var i = 0; i < inline_js.length; i++) {\n        inline_js[i].call(root, root.Bokeh);\n      }if (force === true) {\n        display_loaded();\n      }} else if (Date.now() < root._bokeh_timeout) {\n      setTimeout(run_inline_js, 100);\n    } else if (!root._bokeh_failed_load) {\n      console.log(\"Bokeh: BokehJS failed to load within specified timeout.\");\n      root._bokeh_failed_load = true;\n    } else if (force !== true) {\n      var cell = $(document.getElementById(\"1116\")).parents('.cell').data().cell;\n      cell.output_area.append_execute_result(NB_LOAD_WARNING)\n    }\n\n  }\n\n  if (root._bokeh_is_loading === 0) {\n    console.debug(\"Bokeh: BokehJS loaded, going straight to plotting\");\n    run_inline_js();\n  } else {\n    load_libs(css_urls, js_urls, function() {\n      console.debug(\"Bokeh: BokehJS plotting callback run at\", now());\n      run_inline_js();\n    });\n  }\n}(window));"
     },
     "metadata": {},
     "output_type": "display_data"
    }
   ],
   "source": [
    "# Import packages for visualization\n",
    "from bokeh.io import output_notebook\n",
    "from bokeh.application.handlers import FunctionHandler\n",
    "from bokeh.application import Application\n",
    "\n",
    "# load Bokeh\n",
    "output_notebook()"
   ]
  },
  {
   "cell_type": "code",
   "execution_count": 39,
   "id": "f6fd77a4",
   "metadata": {},
   "outputs": [
    {
     "data": {
      "application/vnd.bokehjs_exec.v0+json": "",
      "text/html": [
       "\n",
       "<script src=\"http://localhost:43827/autoload.js?bokeh-autoload-element=1245&bokeh-absolute-url=http://localhost:43827&resources=none\" id=\"1245\"></script>"
      ]
     },
     "metadata": {
      "application/vnd.bokehjs_exec.v0+json": {
       "server_id": "dfbcf077c4a4427ebb8c87615d6ae88d"
      }
     },
     "output_type": "display_data"
    },
    {
     "name": "stderr",
     "output_type": "stream",
     "text": [
      "WARNING:bokeh.core.validation.check:W-1005 (FIXED_SIZING_MODE): 'fixed' sizing mode requires width and height to be set: Button(id='1304', ...)\n",
      "WARNING:bokeh.core.validation.check:W-1005 (FIXED_SIZING_MODE): 'fixed' sizing mode requires width and height to be set: CheckboxGroup(id='1303', ...)\n",
      "WARNING:bokeh.core.validation.check:W-1005 (FIXED_SIZING_MODE): 'fixed' sizing mode requires width and height to be set: Column(id='1309', ...)\n",
      "WARNING:bokeh.core.validation.check:W-1005 (FIXED_SIZING_MODE): 'fixed' sizing mode requires width and height to be set: Div(id='1246', ...)\n",
      "WARNING:bokeh.core.validation.check:W-1005 (FIXED_SIZING_MODE): 'fixed' sizing mode requires width and height to be set: Row(id='1306', ...)\n",
      "WARNING:bokeh.core.validation.check:W-1005 (FIXED_SIZING_MODE): 'fixed' sizing mode requires width and height to be set: Row(id='1308', ...)\n",
      "WARNING:bokeh.core.validation.check:W-1005 (FIXED_SIZING_MODE): 'fixed' sizing mode requires width and height to be set: Select(id='1299', ...)\n",
      "WARNING:bokeh.core.validation.check:W-1005 (FIXED_SIZING_MODE): 'fixed' sizing mode requires width and height to be set: Select(id='1300', ...)\n",
      "WARNING:bokeh.core.validation.check:W-1005 (FIXED_SIZING_MODE): 'fixed' sizing mode requires width and height to be set: Toggle(id='1301', ...)\n",
      "WARNING:bokeh.core.validation.check:W-1005 (FIXED_SIZING_MODE): 'fixed' sizing mode requires width and height to be set: Toggle(id='1302', ...)\n"
     ]
    }
   ],
   "source": [
    "from fklearn.interface.plot import *\n",
    "import os, fklearn\n",
    "\n",
    "# Define function that takes in a document and attaches the bokeh server to it\n",
    "def modify_doc(doc):\n",
    "    \n",
    "    # Load custom styles (for notebook only)\n",
    "    style = os.path.join(fklearn.__path__[0], 'interface', 'static', 'css', 'styles-notebook.css')\n",
    "    custom_css = Div(text=\"<link rel='stylesheet' type='text/css' href=\" + style + \">\")\n",
    "    add_btn = Button(label=\"Add Plot\", button_type=\"success\")\n",
    "    remove_btn = Button(label=\"Remove Plot\", button_type=\"danger\")\n",
    "\n",
    "    explanations = os.path.join(fklearn.__path__[0], 'interface', 'static', 'data', 'explanations.json')\n",
    "    \n",
    "    # Construct our viewport\n",
    "    l = layout([\n",
    "        [custom_css],\n",
    "        create_plot(\"german_credit_output.csv\", explanations)\n",
    "    ], sizing_mode=\"fixed\", css_classes=[\"layout-container\"])\n",
    "\n",
    "    doc.add_root(l)\n",
    "    \n",
    "# Set up the application\n",
    "handler = FunctionHandler(modify_doc)\n",
    "app = Application(handler)\n",
    "\n",
    "# Render visualization in the notebook\n",
    "show(app)"
   ]
  },
  {
   "cell_type": "code",
   "execution_count": null,
   "id": "57205411",
   "metadata": {},
   "outputs": [],
   "source": []
  },
  {
   "cell_type": "code",
   "execution_count": null,
   "id": "cd08ad20",
   "metadata": {},
   "outputs": [],
   "source": []
  }
 ],
 "metadata": {
  "kernelspec": {
   "display_name": "Python 3",
   "language": "python",
   "name": "python3"
  },
  "language_info": {
   "codemirror_mode": {
    "name": "ipython",
    "version": 3
   },
   "file_extension": ".py",
   "mimetype": "text/x-python",
   "name": "python",
   "nbconvert_exporter": "python",
   "pygments_lexer": "ipython3",
   "version": "3.6.13"
  }
 },
 "nbformat": 4,
 "nbformat_minor": 5
}
